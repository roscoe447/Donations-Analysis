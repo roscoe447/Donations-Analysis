{
 "cells": [
  {
   "cell_type": "markdown",
   "id": "df9e0f94-a448-4ead-b687-6b971beccbb9",
   "metadata": {},
   "source": [
    "# 📊Monthly and half/yearly categorization of financial donors\n"
   ]
  },
  {
   "cell_type": "markdown",
   "id": "2ff8161d-c9ab-4ed1-b21a-d830d08bea76",
   "metadata": {},
   "source": [
    "### Imporing data and setting up the DataFrame:"
   ]
  },
  {
   "cell_type": "code",
   "execution_count": 28,
   "id": "a53452d1-b519-4efa-a894-5ffb73f0133b",
   "metadata": {},
   "outputs": [],
   "source": [
    "import pandas as pd\n",
    "import numpy as np\n",
    "import matplotlib.pyplot as plt\n",
    "import seaborn as sns"
   ]
  },
  {
   "cell_type": "code",
   "execution_count": 2,
   "id": "9e123ba7-5c46-4728-9f86-12964dd5e2f2",
   "metadata": {},
   "outputs": [
    {
     "data": {
      "text/plain": [
       "Index(['Názov organizácie', 'Interný názov kampane', 'Dátum pripísania daru',\n",
       "       'Meno darcu', 'Priezvisko darcu', 'Výška prijatého daru v €',\n",
       "       'Status platby', 'Periodicita daru', 'VS platby', 'Email darcu',\n",
       "       'Platobná metóda', 'Platobná brána', 'Odpoveď z banky',\n",
       "       'Kód bankovej odpovede', 'Expirácia karty',\n",
       "       'Názov alternatívneho odkazu'],\n",
       "      dtype='object')"
      ]
     },
     "execution_count": 2,
     "metadata": {},
     "output_type": "execute_result"
    }
   ],
   "source": [
    "df=pd.read_excel(r\"C:\\Users\\pepor\\Downloads\\report (15).xlsx\")\n",
    "df.columns\n",
    "# Importing excel file: - providing data about columns section:"
   ]
  },
  {
   "cell_type": "code",
   "execution_count": 3,
   "id": "9d3ff25e-a173-40d1-81b1-4ec5339f897e",
   "metadata": {},
   "outputs": [],
   "source": [
    "df.drop(columns=['Platobná metóda', 'Platobná brána', 'Odpoveď z banky',\n",
    "       'Kód bankovej odpovede', 'Expirácia karty',\n",
    "       'Názov alternatívneho odkazu','Status platby','VS platby','Meno darcu','Priezvisko darcu','Email darcu','Status platby'], inplace=True)\n",
    "# Cleaning reluctant columns"
   ]
  },
  {
   "cell_type": "code",
   "execution_count": 4,
   "id": "250114aa-43bc-4aff-a3de-ea4faeaa42f7",
   "metadata": {},
   "outputs": [],
   "source": [
    "df.rename(columns={'Periodicita daru' : \"Gift\"},inplace=True)  \n",
    "df.rename(columns={\"Výška prijatého daru v €\": \"Received donation amount (€)\"},inplace=True)\n",
    "df.rename(columns={\"Dátum pripísania daru\": \"Donation date\"},inplace=True)\n",
    "df.rename(columns={\"Interný názov kampane\":\"Internal campaign name\"},inplace=True)\n",
    "df.rename(columns={\"Názov organizácie\": \"Organization name\"},inplace=True)"
   ]
  },
  {
   "cell_type": "code",
   "execution_count": 5,
   "id": "6f847090-cbe6-4d01-a055-1af5ada5147a",
   "metadata": {},
   "outputs": [],
   "source": [
    "df[\"Internal campaign name\"]= \"Unallowed\"\n",
    "df[\"Organization name\"] = \"Anonymous NGO\"\n",
    "# for GDPR protection"
   ]
  },
  {
   "cell_type": "code",
   "execution_count": 250,
   "id": "038a75a8-788c-4c64-a3f9-862a4421dbf2",
   "metadata": {},
   "outputs": [
    {
     "data": {
      "text/html": [
       "<div>\n",
       "<style scoped>\n",
       "    .dataframe tbody tr th:only-of-type {\n",
       "        vertical-align: middle;\n",
       "    }\n",
       "\n",
       "    .dataframe tbody tr th {\n",
       "        vertical-align: top;\n",
       "    }\n",
       "\n",
       "    .dataframe thead th {\n",
       "        text-align: right;\n",
       "    }\n",
       "</style>\n",
       "<table border=\"1\" class=\"dataframe\">\n",
       "  <thead>\n",
       "    <tr style=\"text-align: right;\">\n",
       "      <th></th>\n",
       "      <th>Organization name</th>\n",
       "      <th>Internal campaign name</th>\n",
       "      <th>Donation date</th>\n",
       "      <th>Received donation amount (€)</th>\n",
       "      <th>Gift</th>\n",
       "      <th>Interný názov kampane</th>\n",
       "    </tr>\n",
       "  </thead>\n",
       "  <tbody>\n",
       "    <tr>\n",
       "      <th>0</th>\n",
       "      <td>Anonymous NGO</td>\n",
       "      <td>Unallowed</td>\n",
       "      <td>2025-05-14 08:53:53.940</td>\n",
       "      <td>1.0</td>\n",
       "      <td>Jednorazová</td>\n",
       "      <td>Unallowed</td>\n",
       "    </tr>\n",
       "    <tr>\n",
       "      <th>1</th>\n",
       "      <td>Anonymous NGO</td>\n",
       "      <td>Unallowed</td>\n",
       "      <td>2025-06-07 14:59:36.728</td>\n",
       "      <td>4.0</td>\n",
       "      <td>Jednorazová</td>\n",
       "      <td>Unallowed</td>\n",
       "    </tr>\n",
       "    <tr>\n",
       "      <th>2</th>\n",
       "      <td>Anonymous NGO</td>\n",
       "      <td>Unallowed</td>\n",
       "      <td>2025-05-12 11:25:40.682</td>\n",
       "      <td>1.0</td>\n",
       "      <td>Jednorazová</td>\n",
       "      <td>Unallowed</td>\n",
       "    </tr>\n",
       "    <tr>\n",
       "      <th>3</th>\n",
       "      <td>Anonymous NGO</td>\n",
       "      <td>Unallowed</td>\n",
       "      <td>2025-05-14 07:25:00.944</td>\n",
       "      <td>1.0</td>\n",
       "      <td>Jednorazová</td>\n",
       "      <td>Unallowed</td>\n",
       "    </tr>\n",
       "    <tr>\n",
       "      <th>4</th>\n",
       "      <td>Anonymous NGO</td>\n",
       "      <td>Unallowed</td>\n",
       "      <td>2025-05-14 07:15:43.863</td>\n",
       "      <td>3.0</td>\n",
       "      <td>Jednorazová</td>\n",
       "      <td>Unallowed</td>\n",
       "    </tr>\n",
       "  </tbody>\n",
       "</table>\n",
       "</div>"
      ],
      "text/plain": [
       "  Organization name Internal campaign name           Donation date  \\\n",
       "0     Anonymous NGO              Unallowed 2025-05-14 08:53:53.940   \n",
       "1     Anonymous NGO              Unallowed 2025-06-07 14:59:36.728   \n",
       "2     Anonymous NGO              Unallowed 2025-05-12 11:25:40.682   \n",
       "3     Anonymous NGO              Unallowed 2025-05-14 07:25:00.944   \n",
       "4     Anonymous NGO              Unallowed 2025-05-14 07:15:43.863   \n",
       "\n",
       "   Received donation amount (€)         Gift Interný názov kampane  \n",
       "0                           1.0  Jednorazová             Unallowed  \n",
       "1                           4.0  Jednorazová             Unallowed  \n",
       "2                           1.0  Jednorazová             Unallowed  \n",
       "3                           1.0  Jednorazová             Unallowed  \n",
       "4                           3.0  Jednorazová             Unallowed  "
      ]
     },
     "execution_count": 250,
     "metadata": {},
     "output_type": "execute_result"
    }
   ],
   "source": [
    "df.head()"
   ]
  },
  {
   "cell_type": "markdown",
   "id": "c658df12-f561-4e2a-8bd4-196f20a9f7fe",
   "metadata": {},
   "source": [
    "---"
   ]
  },
  {
   "cell_type": "markdown",
   "id": "88bd6428-e242-431e-8978-ad8d39cd290b",
   "metadata": {},
   "source": [
    "#  📌 January"
   ]
  },
  {
   "cell_type": "markdown",
   "id": "0dbb9d1e-6e5f-4adc-b35a-ef70d0afa622",
   "metadata": {},
   "source": [
    "## Cash donors "
   ]
  },
  {
   "cell_type": "markdown",
   "id": "f88fce58-e743-461a-a257-2b31626b4291",
   "metadata": {},
   "source": [
    "### Date formatting:"
   ]
  },
  {
   "cell_type": "code",
   "execution_count": 251,
   "id": "bfaa4703-73ac-4554-877e-c6b0343a094f",
   "metadata": {},
   "outputs": [],
   "source": [
    "df[\"Donation date\"] = pd.to_datetime(df[\"Donation date\"])"
   ]
  },
  {
   "cell_type": "code",
   "execution_count": 259,
   "id": "1f3b0824-6fc8-4db5-a7e6-425ef2a2a610",
   "metadata": {},
   "outputs": [],
   "source": [
    "cash_donnors = df[\n",
    "    (df[\"Donation date\"].dt.year == 2025) &\n",
    "    (df[\"Donation date\"].dt.month == 1) &\n",
    "    (df[\"Gift\"] == \"Jednorazová\") # Jednorázová = means \"One-time\"\n",
    "]\n",
    "# Filtering data for specific date"
   ]
  },
  {
   "cell_type": "markdown",
   "id": "2c730e87-0ed2-40fd-bc99-a8da65b404e6",
   "metadata": {},
   "source": [
    "### Finalization:"
   ]
  },
  {
   "cell_type": "code",
   "execution_count": 260,
   "id": "7ec29cb4-6628-429b-820f-0147c59311c0",
   "metadata": {},
   "outputs": [
    {
     "data": {
      "text/plain": [
       "np.int64(193)"
      ]
     },
     "execution_count": 260,
     "metadata": {},
     "output_type": "execute_result"
    }
   ],
   "source": [
    "cash_donnors[\"Gift\"].value_counts().sum()\n",
    "# Result= 193 cash-donors gifts in January 2025"
   ]
  },
  {
   "cell_type": "code",
   "execution_count": 261,
   "id": "b09cdffc-8b22-4ba1-8dcf-b763d733fd9f",
   "metadata": {},
   "outputs": [
    {
     "data": {
      "text/plain": [
       "np.float64(6122.0)"
      ]
     },
     "execution_count": 261,
     "metadata": {},
     "output_type": "execute_result"
    }
   ],
   "source": [
    "cash_donnors[\"Received donation amount (€)\"].sum()\n",
    "# The total amount of donations in January - 6122€"
   ]
  },
  {
   "cell_type": "code",
   "execution_count": 262,
   "id": "a61c99a0-640e-4fac-8ef0-609ddf559742",
   "metadata": {},
   "outputs": [
    {
     "data": {
      "text/plain": [
       "np.float64(31.72020725388601)"
      ]
     },
     "execution_count": 262,
     "metadata": {},
     "output_type": "execute_result"
    }
   ],
   "source": [
    "cash_donnors[\"Received donation amount (€)\"].mean()\n",
    "# Avarage amount of one-time gift - 31,7 €"
   ]
  },
  {
   "cell_type": "markdown",
   "id": "c214b354-4d89-45e6-87d3-7cd0ba2554c6",
   "metadata": {},
   "source": [
    "---"
   ]
  },
  {
   "cell_type": "markdown",
   "id": "87d33941-1836-4cab-bcdc-26838c7c72f7",
   "metadata": {},
   "source": [
    "## Pledgers doners \n",
    "### Date formating"
   ]
  },
  {
   "cell_type": "code",
   "execution_count": 24,
   "id": "d297177b-397a-4a17-a7cf-b94144d3b9a1",
   "metadata": {},
   "outputs": [],
   "source": [
    "df[\"Donation date\"] = pd.to_datetime(df[\"Donation date\"])"
   ]
  },
  {
   "cell_type": "code",
   "execution_count": 25,
   "id": "e83b2d6c-d523-45f9-9fa6-a6ec691ac6f6",
   "metadata": {},
   "outputs": [],
   "source": [
    "pledgers= df[\n",
    "    (df[\"Donation date\"].dt.year == 2025)&\n",
    "    (df[\"Donation date\"].dt.month == 1)&\n",
    "    (df[\"Gift\"]== \"Pravidelná\") # Pravidelná = means Pledgers\n",
    "]"
   ]
  },
  {
   "cell_type": "markdown",
   "id": "b3100c4f-6181-4f77-8923-196d2e50c864",
   "metadata": {},
   "source": [
    "### Finalization:"
   ]
  },
  {
   "cell_type": "code",
   "execution_count": 26,
   "id": "2fd7b40c-47d6-4391-9769-e5075986509c",
   "metadata": {},
   "outputs": [
    {
     "data": {
      "text/plain": [
       "np.int64(184)"
      ]
     },
     "execution_count": 26,
     "metadata": {},
     "output_type": "execute_result"
    }
   ],
   "source": [
    "pledgers[\"Gift\"].value_counts().sum()"
   ]
  },
  {
   "cell_type": "code",
   "execution_count": 27,
   "id": "da5ef5a8-9646-4008-b291-1749b8d5d2c7",
   "metadata": {},
   "outputs": [
    {
     "data": {
      "text/plain": [
       "np.float64(2667.5)"
      ]
     },
     "execution_count": 27,
     "metadata": {},
     "output_type": "execute_result"
    }
   ],
   "source": [
    "pledgers[\"Received donation amount (€)\"].sum()"
   ]
  },
  {
   "cell_type": "code",
   "execution_count": 28,
   "id": "ab73831d-1aa0-43fe-827a-c9a3bb0733ee",
   "metadata": {},
   "outputs": [
    {
     "data": {
      "text/plain": [
       "np.float64(14.497282608695652)"
      ]
     },
     "execution_count": 28,
     "metadata": {},
     "output_type": "execute_result"
    }
   ],
   "source": [
    "pledgers[\"Received donation amount (€)\"].mean()"
   ]
  },
  {
   "cell_type": "markdown",
   "id": "f9a5dbda-d87f-43ab-b3d2-2c46531ed086",
   "metadata": {},
   "source": [
    "---"
   ]
  },
  {
   "cell_type": "markdown",
   "id": "2fa2fe41-1e54-47d1-ac9e-a103e09a7ef1",
   "metadata": {},
   "source": [
    "### CASH + PLEDGERS \n"
   ]
  },
  {
   "cell_type": "code",
   "execution_count": 29,
   "id": "7bfc505e-0a69-4079-bcad-824cdac6e417",
   "metadata": {},
   "outputs": [],
   "source": [
    "df[\"Donation date\"] = pd.to_datetime(df[\"Donation date\"])"
   ]
  },
  {
   "cell_type": "code",
   "execution_count": 30,
   "id": "1dab9153-b6b8-413d-8b4e-a64d5c0ef67b",
   "metadata": {},
   "outputs": [],
   "source": [
    "cash_pledgers= df[\n",
    "    (df[\"Donation date\"].dt.year == 2025)&\n",
    "    (df[\"Donation date\"].dt.month == 1)\n",
    "]"
   ]
  },
  {
   "cell_type": "markdown",
   "id": "385b9df4-8974-4459-8886-8f74e56b1adf",
   "metadata": {},
   "source": [
    "### Finalization:"
   ]
  },
  {
   "cell_type": "code",
   "execution_count": 31,
   "id": "cb7b1392-6a1c-4e19-b968-176eaef66f2c",
   "metadata": {},
   "outputs": [
    {
     "data": {
      "text/plain": [
       "np.int64(377)"
      ]
     },
     "execution_count": 31,
     "metadata": {},
     "output_type": "execute_result"
    }
   ],
   "source": [
    "cash_pledgers[\"Gift\"].value_counts().sum()"
   ]
  },
  {
   "cell_type": "code",
   "execution_count": 272,
   "id": "123355ca-cce6-4a34-aaa0-093e1f942f0f",
   "metadata": {},
   "outputs": [
    {
     "data": {
      "text/plain": [
       "np.float64(8789.5)"
      ]
     },
     "execution_count": 272,
     "metadata": {},
     "output_type": "execute_result"
    }
   ],
   "source": [
    "cash_pledgers[\"Received donation amount (€)\"].sum()"
   ]
  },
  {
   "cell_type": "code",
   "execution_count": 273,
   "id": "238c6fa4-ba71-4e37-b9e8-f7a737650953",
   "metadata": {},
   "outputs": [
    {
     "data": {
      "text/plain": [
       "np.float64(23.314323607427056)"
      ]
     },
     "execution_count": 273,
     "metadata": {},
     "output_type": "execute_result"
    }
   ],
   "source": [
    "cash_pledgers[\"Received donation amount (€)\"].mean()"
   ]
  },
  {
   "cell_type": "markdown",
   "id": "2a6c9f7d-ea3e-4e47-9ff3-d86f74891d66",
   "metadata": {},
   "source": [
    " ---"
   ]
  },
  {
   "cell_type": "markdown",
   "id": "94d0f798-0dcb-4a31-a054-644892ff4150",
   "metadata": {},
   "source": [
    "# 📌 February"
   ]
  },
  {
   "cell_type": "markdown",
   "id": "c264d200-1f7b-4666-8046-93efbdb3068c",
   "metadata": {},
   "source": [
    "### Pledges "
   ]
  },
  {
   "cell_type": "code",
   "execution_count": 9,
   "id": "1925ab88-0764-453f-84e1-e0c0f8c83adc",
   "metadata": {},
   "outputs": [
    {
     "data": {
      "text/html": [
       "<div>\n",
       "<style scoped>\n",
       "    .dataframe tbody tr th:only-of-type {\n",
       "        vertical-align: middle;\n",
       "    }\n",
       "\n",
       "    .dataframe tbody tr th {\n",
       "        vertical-align: top;\n",
       "    }\n",
       "\n",
       "    .dataframe thead th {\n",
       "        text-align: right;\n",
       "    }\n",
       "</style>\n",
       "<table border=\"1\" class=\"dataframe\">\n",
       "  <thead>\n",
       "    <tr style=\"text-align: right;\">\n",
       "      <th></th>\n",
       "      <th>Organization name</th>\n",
       "      <th>Internal campaign name</th>\n",
       "      <th>Donation date</th>\n",
       "      <th>Received donation amount (€)</th>\n",
       "      <th>Gift</th>\n",
       "    </tr>\n",
       "  </thead>\n",
       "  <tbody>\n",
       "    <tr>\n",
       "      <th>0</th>\n",
       "      <td>Anonymous NGO</td>\n",
       "      <td>Unallowed</td>\n",
       "      <td>2025-05-14 08:53:53.940</td>\n",
       "      <td>1.0</td>\n",
       "      <td>Jednorazová</td>\n",
       "    </tr>\n",
       "    <tr>\n",
       "      <th>1</th>\n",
       "      <td>Anonymous NGO</td>\n",
       "      <td>Unallowed</td>\n",
       "      <td>2025-06-07 14:59:36.728</td>\n",
       "      <td>4.0</td>\n",
       "      <td>Jednorazová</td>\n",
       "    </tr>\n",
       "    <tr>\n",
       "      <th>2</th>\n",
       "      <td>Anonymous NGO</td>\n",
       "      <td>Unallowed</td>\n",
       "      <td>2025-05-12 11:25:40.682</td>\n",
       "      <td>1.0</td>\n",
       "      <td>Jednorazová</td>\n",
       "    </tr>\n",
       "    <tr>\n",
       "      <th>3</th>\n",
       "      <td>Anonymous NGO</td>\n",
       "      <td>Unallowed</td>\n",
       "      <td>2025-05-14 07:25:00.944</td>\n",
       "      <td>1.0</td>\n",
       "      <td>Jednorazová</td>\n",
       "    </tr>\n",
       "    <tr>\n",
       "      <th>4</th>\n",
       "      <td>Anonymous NGO</td>\n",
       "      <td>Unallowed</td>\n",
       "      <td>2025-05-14 07:15:43.863</td>\n",
       "      <td>3.0</td>\n",
       "      <td>Jednorazová</td>\n",
       "    </tr>\n",
       "  </tbody>\n",
       "</table>\n",
       "</div>"
      ],
      "text/plain": [
       "  Organization name Internal campaign name           Donation date  \\\n",
       "0     Anonymous NGO              Unallowed 2025-05-14 08:53:53.940   \n",
       "1     Anonymous NGO              Unallowed 2025-06-07 14:59:36.728   \n",
       "2     Anonymous NGO              Unallowed 2025-05-12 11:25:40.682   \n",
       "3     Anonymous NGO              Unallowed 2025-05-14 07:25:00.944   \n",
       "4     Anonymous NGO              Unallowed 2025-05-14 07:15:43.863   \n",
       "\n",
       "   Received donation amount (€)         Gift  \n",
       "0                           1.0  Jednorazová  \n",
       "1                           4.0  Jednorazová  \n",
       "2                           1.0  Jednorazová  \n",
       "3                           1.0  Jednorazová  \n",
       "4                           3.0  Jednorazová  "
      ]
     },
     "execution_count": 9,
     "metadata": {},
     "output_type": "execute_result"
    }
   ],
   "source": [
    "df.head()"
   ]
  },
  {
   "cell_type": "code",
   "execution_count": 10,
   "id": "ea06c887-24b3-44cf-a361-5fc385b48751",
   "metadata": {},
   "outputs": [],
   "source": [
    "df[\"Donation date\"] = pd.to_datetime(df[\"Donation date\"])"
   ]
  },
  {
   "cell_type": "code",
   "execution_count": 14,
   "id": "a48a424c-6088-48b3-bbf7-bc0463b252d3",
   "metadata": {},
   "outputs": [],
   "source": [
    "pledger_february= df[\n",
    "(df[\"Donation date\"].dt.year== 2025)&\n",
    "(df[\"Donation date\"].dt.month==2)&\n",
    "(df[\"Gift\"]==\"Pravidelná\")\n",
    "]"
   ]
  },
  {
   "cell_type": "markdown",
   "id": "759c8e46-00d4-4432-9171-2905d6dc185f",
   "metadata": {},
   "source": [
    "### Finalization"
   ]
  },
  {
   "cell_type": "code",
   "execution_count": 15,
   "id": "8c479527-1743-48a9-a182-8546cd6ba988",
   "metadata": {},
   "outputs": [
    {
     "data": {
      "text/plain": [
       "np.int64(202)"
      ]
     },
     "execution_count": 15,
     "metadata": {},
     "output_type": "execute_result"
    }
   ],
   "source": [
    "pledger_february[\"Donation date\"].value_counts().sum()"
   ]
  },
  {
   "cell_type": "code",
   "execution_count": 16,
   "id": "c482f847-aa4b-40a6-b757-c45f62151abb",
   "metadata": {},
   "outputs": [
    {
     "data": {
      "text/plain": [
       "np.float64(2725.0)"
      ]
     },
     "execution_count": 16,
     "metadata": {},
     "output_type": "execute_result"
    }
   ],
   "source": [
    "pledger_february[\"Received donation amount (€)\"].sum()"
   ]
  },
  {
   "cell_type": "code",
   "execution_count": 21,
   "id": "bb1d5e4d-5627-4ed0-9e65-4d718d9857a1",
   "metadata": {},
   "outputs": [
    {
     "data": {
      "text/plain": [
       "np.float64(13.490099009900991)"
      ]
     },
     "execution_count": 21,
     "metadata": {},
     "output_type": "execute_result"
    }
   ],
   "source": [
    "pledger_february[\"Received donation amount (€)\"].mean()"
   ]
  },
  {
   "cell_type": "markdown",
   "id": "0d2f4d96-7588-44d3-b202-33f6b302e828",
   "metadata": {},
   "source": [
    "---"
   ]
  },
  {
   "cell_type": "markdown",
   "id": "102d949a-6fd8-4f56-9253-4a3bb30a132e",
   "metadata": {},
   "source": [
    "### Cash Doners "
   ]
  },
  {
   "cell_type": "code",
   "execution_count": 7,
   "id": "8a9dd64e-986e-41a7-a59e-3e801813f964",
   "metadata": {},
   "outputs": [],
   "source": [
    "df[\"Donation date\"] = pd.to_datetime(df[\"Donation date\"])"
   ]
  },
  {
   "cell_type": "code",
   "execution_count": 21,
   "id": "5f6f1a24-35a5-48c9-9683-34b7e182c889",
   "metadata": {},
   "outputs": [],
   "source": [
    "cash_donners_fb2025= df[\n",
    "(df[\"Donation date\"].dt.year==2025)&\n",
    "(df[\"Donation date\"].dt.month==2)&\n",
    "(df[\"Gift\"]== \"Jednorazová\")\n",
    " ]\n"
   ]
  },
  {
   "cell_type": "markdown",
   "id": "35ea1059-d487-449a-9831-91e1938230c3",
   "metadata": {},
   "source": [
    "### Finalization"
   ]
  },
  {
   "cell_type": "code",
   "execution_count": 13,
   "id": "7a12f205-700b-414f-8c9b-6880dc3c1a70",
   "metadata": {},
   "outputs": [
    {
     "data": {
      "text/plain": [
       "np.int64(250)"
      ]
     },
     "execution_count": 13,
     "metadata": {},
     "output_type": "execute_result"
    }
   ],
   "source": [
    "cash_donners_fb2025[\"Gift\"].value_counts().sum()"
   ]
  },
  {
   "cell_type": "code",
   "execution_count": 14,
   "id": "dfda7e1e-760a-4f31-892c-ca62b0151fd0",
   "metadata": {},
   "outputs": [
    {
     "data": {
      "text/plain": [
       "np.float64(6534.5)"
      ]
     },
     "execution_count": 14,
     "metadata": {},
     "output_type": "execute_result"
    }
   ],
   "source": [
    "cash_donners_fb2025[\"Received donation amount (€)\"].sum()"
   ]
  },
  {
   "cell_type": "code",
   "execution_count": 15,
   "id": "cd3f0a16-aae6-48b7-8aa8-107b629a10e5",
   "metadata": {},
   "outputs": [
    {
     "data": {
      "text/plain": [
       "np.float64(26.138)"
      ]
     },
     "execution_count": 15,
     "metadata": {},
     "output_type": "execute_result"
    }
   ],
   "source": [
    "cash_donners_fb2025[\"Received donation amount (€)\"].mean()"
   ]
  },
  {
   "cell_type": "markdown",
   "id": "ff1209c6-dbdc-4caa-8fdc-19e349bd338c",
   "metadata": {},
   "source": [
    "---"
   ]
  },
  {
   "cell_type": "markdown",
   "id": "ae61cfeb-be32-4438-aa8a-2df42d57d4ec",
   "metadata": {},
   "source": [
    "### Cash Doners + Pledgers"
   ]
  },
  {
   "cell_type": "code",
   "execution_count": 16,
   "id": "a6164e55-0401-4fae-a326-b8ed6fd1c38a",
   "metadata": {},
   "outputs": [],
   "source": [
    "cash_pledge= df[\n",
    "(df[\"Donation date\"].dt.year==2025)&\n",
    "(df[\"Donation date\"].dt.month==2)\n",
    "]"
   ]
  },
  {
   "cell_type": "code",
   "execution_count": 18,
   "id": "cadf0a68-5e85-4845-ac6a-9f5e1309e30b",
   "metadata": {},
   "outputs": [
    {
     "data": {
      "text/plain": [
       "np.int64(452)"
      ]
     },
     "execution_count": 18,
     "metadata": {},
     "output_type": "execute_result"
    }
   ],
   "source": [
    "cash_pledge[\"Gift\"].value_counts().sum()"
   ]
  },
  {
   "cell_type": "code",
   "execution_count": 19,
   "id": "b5f27472-f41a-48d4-89fd-6779e98d1c9c",
   "metadata": {},
   "outputs": [
    {
     "data": {
      "text/plain": [
       "np.float64(9259.5)"
      ]
     },
     "execution_count": 19,
     "metadata": {},
     "output_type": "execute_result"
    }
   ],
   "source": [
    "cash_pledge[\"Received donation amount (€)\"].sum()\n"
   ]
  },
  {
   "cell_type": "code",
   "execution_count": 20,
   "id": "45b6c1e8-d2f0-4d17-906f-9343144a9098",
   "metadata": {},
   "outputs": [
    {
     "data": {
      "text/plain": [
       "np.float64(20.48561946902655)"
      ]
     },
     "execution_count": 20,
     "metadata": {},
     "output_type": "execute_result"
    }
   ],
   "source": [
    "cash_pledge[\"Received donation amount (€)\"].mean()"
   ]
  },
  {
   "cell_type": "markdown",
   "id": "345501ae-0f19-46b7-be4e-c6eb01bc48d3",
   "metadata": {},
   "source": [
    "---"
   ]
  },
  {
   "cell_type": "markdown",
   "id": "ff8470fa-fb69-4a38-934e-ab4109069af7",
   "metadata": {},
   "source": [
    "# 📌 March 2025"
   ]
  },
  {
   "cell_type": "markdown",
   "id": "a0745d53-4e04-4759-8d84-0529068e0f20",
   "metadata": {},
   "source": [
    "### Cash Donors"
   ]
  },
  {
   "cell_type": "code",
   "execution_count": 24,
   "id": "4cd444b1-7a24-476e-adae-d3644a954983",
   "metadata": {},
   "outputs": [],
   "source": [
    "df[\"Donation date\"]= pd.to_datetime(df[\"Donation date\"])"
   ]
  },
  {
   "cell_type": "code",
   "execution_count": 28,
   "id": "a243c7cc-0f9f-4016-8508-415699d76419",
   "metadata": {},
   "outputs": [],
   "source": [
    "cash_donors_march=df[\n",
    "(df[\"Donation date\"].dt.year==2025)&\n",
    "(df[\"Donation date\"].dt.month==3)&\n",
    "(df[\"Gift\"]== \"Jednorazová\")\n",
    "]"
   ]
  },
  {
   "cell_type": "markdown",
   "id": "dbe0eb1b-7cc1-49d5-b28f-6f7c06681268",
   "metadata": {},
   "source": [
    "### Finalization"
   ]
  },
  {
   "cell_type": "code",
   "execution_count": 29,
   "id": "60e4fed8-22d6-456f-8ac9-a351762831d3",
   "metadata": {},
   "outputs": [
    {
     "data": {
      "text/plain": [
       "np.int64(319)"
      ]
     },
     "execution_count": 29,
     "metadata": {},
     "output_type": "execute_result"
    }
   ],
   "source": [
    "cash_donors_march[\"Gift\"].value_counts().sum()"
   ]
  },
  {
   "cell_type": "code",
   "execution_count": 30,
   "id": "a0b0873e-2feb-40c7-aef6-802998a69bb5",
   "metadata": {},
   "outputs": [
    {
     "data": {
      "text/plain": [
       "np.float64(9804.75)"
      ]
     },
     "execution_count": 30,
     "metadata": {},
     "output_type": "execute_result"
    }
   ],
   "source": [
    "cash_donors_march[\"Received donation amount (€)\"].sum()"
   ]
  },
  {
   "cell_type": "code",
   "execution_count": 31,
   "id": "9247121c-7639-43cd-9988-357564b821d5",
   "metadata": {},
   "outputs": [
    {
     "data": {
      "text/plain": [
       "np.float64(30.7358934169279)"
      ]
     },
     "execution_count": 31,
     "metadata": {},
     "output_type": "execute_result"
    }
   ],
   "source": [
    "cash_donors_march[\"Received donation amount (€)\"].mean()"
   ]
  },
  {
   "cell_type": "markdown",
   "id": "8536f728-bbca-4438-a922-fc10b2b677bd",
   "metadata": {},
   "source": [
    "---"
   ]
  },
  {
   "cell_type": "markdown",
   "id": "5eb26267-e666-4699-9d10-4c0fa229c4ea",
   "metadata": {},
   "source": [
    "### Pledges"
   ]
  },
  {
   "cell_type": "code",
   "execution_count": 32,
   "id": "f79a7b60-9bf4-483f-ba53-3feef8477c5f",
   "metadata": {},
   "outputs": [],
   "source": [
    "pledger_march= df[\n",
    "(df[\"Donation date\"].dt.year== 2025)&\n",
    "(df[\"Donation date\"].dt.month==3)&\n",
    "(df[\"Gift\"]==\"Pravidelná\")\n",
    "]"
   ]
  },
  {
   "cell_type": "markdown",
   "id": "180171c2-e444-4c09-a09a-4fec00b70d1b",
   "metadata": {},
   "source": [
    "### Finalization"
   ]
  },
  {
   "cell_type": "code",
   "execution_count": 33,
   "id": "18d8c8b1-f90d-4e32-8755-a189561874b4",
   "metadata": {},
   "outputs": [
    {
     "data": {
      "text/plain": [
       "np.int64(263)"
      ]
     },
     "execution_count": 33,
     "metadata": {},
     "output_type": "execute_result"
    }
   ],
   "source": [
    "pledger_march[\"Gift\"].value_counts().sum()"
   ]
  },
  {
   "cell_type": "code",
   "execution_count": 34,
   "id": "efea8eaf-ad29-408b-ac19-d5eeafb3e0a4",
   "metadata": {},
   "outputs": [
    {
     "data": {
      "text/plain": [
       "np.float64(3603.0)"
      ]
     },
     "execution_count": 34,
     "metadata": {},
     "output_type": "execute_result"
    }
   ],
   "source": [
    "pledger_march[\"Received donation amount (€)\"].sum()"
   ]
  },
  {
   "cell_type": "code",
   "execution_count": 35,
   "id": "b186c20f-5982-48db-a9de-1e10c036e8de",
   "metadata": {},
   "outputs": [
    {
     "data": {
      "text/plain": [
       "np.float64(13.699619771863118)"
      ]
     },
     "execution_count": 35,
     "metadata": {},
     "output_type": "execute_result"
    }
   ],
   "source": [
    "pledger_march[\"Received donation amount (€)\"].mean()"
   ]
  },
  {
   "cell_type": "markdown",
   "id": "aea9c18b-fba6-4ab4-ab7d-15366a84cb73",
   "metadata": {},
   "source": [
    "---"
   ]
  },
  {
   "cell_type": "markdown",
   "id": "c4db92a0-2580-414c-9306-cf4aacff8520",
   "metadata": {},
   "source": [
    "### Pledges + Cash"
   ]
  },
  {
   "cell_type": "code",
   "execution_count": 36,
   "id": "cfc38aff-f331-4970-bd42-0956500d8c50",
   "metadata": {},
   "outputs": [],
   "source": [
    "pledger_cash_march= df[\n",
    "(df[\"Donation date\"].dt.year== 2025)&\n",
    "(df[\"Donation date\"].dt.month==3)\n",
    "]"
   ]
  },
  {
   "cell_type": "code",
   "execution_count": 37,
   "id": "45858f58-3285-4266-8587-4d6176dd692d",
   "metadata": {},
   "outputs": [
    {
     "data": {
      "text/plain": [
       "np.int64(582)"
      ]
     },
     "execution_count": 37,
     "metadata": {},
     "output_type": "execute_result"
    }
   ],
   "source": [
    "pledger_cash_march[\"Gift\"].value_counts().sum()"
   ]
  },
  {
   "cell_type": "code",
   "execution_count": 38,
   "id": "5f35361a-3f6c-4881-bde1-b48813b3d3af",
   "metadata": {},
   "outputs": [
    {
     "data": {
      "text/plain": [
       "np.float64(13407.75)"
      ]
     },
     "execution_count": 38,
     "metadata": {},
     "output_type": "execute_result"
    }
   ],
   "source": [
    "pledger_cash_march[\"Received donation amount (€)\"].sum()"
   ]
  },
  {
   "cell_type": "code",
   "execution_count": 39,
   "id": "32ba0375-73ee-447d-a73c-a9e1e04999cf",
   "metadata": {},
   "outputs": [
    {
     "data": {
      "text/plain": [
       "np.float64(23.037371134020617)"
      ]
     },
     "execution_count": 39,
     "metadata": {},
     "output_type": "execute_result"
    }
   ],
   "source": [
    "pledger_cash_march[\"Received donation amount (€)\"].mean()"
   ]
  },
  {
   "cell_type": "markdown",
   "id": "34c1f6dc-883d-42ad-a6bd-e486a1a7bd3f",
   "metadata": {},
   "source": [
    "---"
   ]
  },
  {
   "cell_type": "markdown",
   "id": "cd21c7f0-19e1-4816-85c6-d8962fb914b8",
   "metadata": {},
   "source": [
    "# 📌 April 2025"
   ]
  },
  {
   "cell_type": "markdown",
   "id": "af8078ef-ba2e-4488-8649-3f4bd98d4da7",
   "metadata": {},
   "source": [
    "### Cash Doners"
   ]
  },
  {
   "cell_type": "code",
   "execution_count": 8,
   "id": "76116ef9-9440-4363-9c1b-26a7bb1b8cb4",
   "metadata": {},
   "outputs": [
    {
     "data": {
      "text/html": [
       "<div>\n",
       "<style scoped>\n",
       "    .dataframe tbody tr th:only-of-type {\n",
       "        vertical-align: middle;\n",
       "    }\n",
       "\n",
       "    .dataframe tbody tr th {\n",
       "        vertical-align: top;\n",
       "    }\n",
       "\n",
       "    .dataframe thead th {\n",
       "        text-align: right;\n",
       "    }\n",
       "</style>\n",
       "<table border=\"1\" class=\"dataframe\">\n",
       "  <thead>\n",
       "    <tr style=\"text-align: right;\">\n",
       "      <th></th>\n",
       "      <th>Organization name</th>\n",
       "      <th>Internal campaign name</th>\n",
       "      <th>Donation date</th>\n",
       "      <th>Received donation amount (€)</th>\n",
       "      <th>Gift</th>\n",
       "    </tr>\n",
       "  </thead>\n",
       "  <tbody>\n",
       "    <tr>\n",
       "      <th>0</th>\n",
       "      <td>Anonymous NGO</td>\n",
       "      <td>Unallowed</td>\n",
       "      <td>2025-05-14 08:53:53.940</td>\n",
       "      <td>1.0</td>\n",
       "      <td>Jednorazová</td>\n",
       "    </tr>\n",
       "    <tr>\n",
       "      <th>1</th>\n",
       "      <td>Anonymous NGO</td>\n",
       "      <td>Unallowed</td>\n",
       "      <td>2025-06-07 14:59:36.728</td>\n",
       "      <td>4.0</td>\n",
       "      <td>Jednorazová</td>\n",
       "    </tr>\n",
       "    <tr>\n",
       "      <th>2</th>\n",
       "      <td>Anonymous NGO</td>\n",
       "      <td>Unallowed</td>\n",
       "      <td>2025-05-12 11:25:40.682</td>\n",
       "      <td>1.0</td>\n",
       "      <td>Jednorazová</td>\n",
       "    </tr>\n",
       "    <tr>\n",
       "      <th>3</th>\n",
       "      <td>Anonymous NGO</td>\n",
       "      <td>Unallowed</td>\n",
       "      <td>2025-05-14 07:25:00.944</td>\n",
       "      <td>1.0</td>\n",
       "      <td>Jednorazová</td>\n",
       "    </tr>\n",
       "    <tr>\n",
       "      <th>4</th>\n",
       "      <td>Anonymous NGO</td>\n",
       "      <td>Unallowed</td>\n",
       "      <td>2025-05-14 07:15:43.863</td>\n",
       "      <td>3.0</td>\n",
       "      <td>Jednorazová</td>\n",
       "    </tr>\n",
       "  </tbody>\n",
       "</table>\n",
       "</div>"
      ],
      "text/plain": [
       "  Organization name Internal campaign name           Donation date  \\\n",
       "0     Anonymous NGO              Unallowed 2025-05-14 08:53:53.940   \n",
       "1     Anonymous NGO              Unallowed 2025-06-07 14:59:36.728   \n",
       "2     Anonymous NGO              Unallowed 2025-05-12 11:25:40.682   \n",
       "3     Anonymous NGO              Unallowed 2025-05-14 07:25:00.944   \n",
       "4     Anonymous NGO              Unallowed 2025-05-14 07:15:43.863   \n",
       "\n",
       "   Received donation amount (€)         Gift  \n",
       "0                           1.0  Jednorazová  \n",
       "1                           4.0  Jednorazová  \n",
       "2                           1.0  Jednorazová  \n",
       "3                           1.0  Jednorazová  \n",
       "4                           3.0  Jednorazová  "
      ]
     },
     "execution_count": 8,
     "metadata": {},
     "output_type": "execute_result"
    }
   ],
   "source": [
    "df.head()"
   ]
  },
  {
   "cell_type": "code",
   "execution_count": 7,
   "id": "c5fdd565-ad2a-46eb-a0b1-17ec63c6c2f5",
   "metadata": {},
   "outputs": [],
   "source": [
    "df[\"Donation date\"]=pd.to_datetime(df[\"Donation date\"])"
   ]
  },
  {
   "cell_type": "code",
   "execution_count": 9,
   "id": "cd8f6ac2-2dab-4b00-a715-38543b747075",
   "metadata": {},
   "outputs": [],
   "source": [
    "cash_april=df[\n",
    "(df[\"Donation date\"].dt.year==2025)&\n",
    "(df[\"Donation date\"].dt.month==4)&\n",
    "(df[\"Gift\"]==\"Jednorazová\")\n",
    "]"
   ]
  },
  {
   "cell_type": "code",
   "execution_count": 10,
   "id": "393f4b42-9644-48f5-8bc1-829df67e0537",
   "metadata": {},
   "outputs": [
    {
     "data": {
      "text/plain": [
       "np.int64(299)"
      ]
     },
     "execution_count": 10,
     "metadata": {},
     "output_type": "execute_result"
    }
   ],
   "source": [
    "cash_april[\"Gift\"].value_counts().sum()"
   ]
  },
  {
   "cell_type": "code",
   "execution_count": 11,
   "id": "a2a7f4f1-43d4-4cae-9c00-51fd511bd875",
   "metadata": {},
   "outputs": [
    {
     "data": {
      "text/plain": [
       "np.float64(9451.0)"
      ]
     },
     "execution_count": 11,
     "metadata": {},
     "output_type": "execute_result"
    }
   ],
   "source": [
    "cash_april[\"Received donation amount (€)\"].sum()"
   ]
  },
  {
   "cell_type": "code",
   "execution_count": 14,
   "id": "112363cb-51dc-4abd-8aa5-b6ba0f399e46",
   "metadata": {},
   "outputs": [
    {
     "data": {
      "text/plain": [
       "np.float64(31.608695652173914)"
      ]
     },
     "execution_count": 14,
     "metadata": {},
     "output_type": "execute_result"
    }
   ],
   "source": [
    "cash_april[\"Received donation amount (€)\"].mean()"
   ]
  },
  {
   "cell_type": "markdown",
   "id": "486edda8-afa4-432e-96ac-b0c7a1ed008b",
   "metadata": {},
   "source": [
    "---"
   ]
  },
  {
   "cell_type": "markdown",
   "id": "3546a9ab-ddae-499d-b258-905cd1b536c7",
   "metadata": {},
   "source": [
    "### Pledges"
   ]
  },
  {
   "cell_type": "code",
   "execution_count": null,
   "id": "b24aef3c-4b8d-49aa-aac7-b5d70f350c91",
   "metadata": {},
   "outputs": [],
   "source": [
    "pledges_april=df[\n",
    "(df[\"Donation date\"].dt.year==2025)&\n",
    "(df[\"Donation date\"].dt.month==4)&\n",
    "(df[\"Gift\"]==\"Pravidelná\")\n",
    "]"
   ]
  },
  {
   "cell_type": "code",
   "execution_count": 19,
   "id": "a50915fb-e67b-4b44-9286-6c868651ff4c",
   "metadata": {},
   "outputs": [
    {
     "data": {
      "text/plain": [
       "np.int64(298)"
      ]
     },
     "execution_count": 19,
     "metadata": {},
     "output_type": "execute_result"
    }
   ],
   "source": [
    "pledges_april[\"Gift\"].value_counts().sum()"
   ]
  },
  {
   "cell_type": "code",
   "execution_count": 20,
   "id": "6a600bd7-900b-4e74-9d1c-6ae0d81c59cf",
   "metadata": {},
   "outputs": [
    {
     "data": {
      "text/plain": [
       "np.float64(4199.0)"
      ]
     },
     "execution_count": 20,
     "metadata": {},
     "output_type": "execute_result"
    }
   ],
   "source": [
    "pledges_april[\"Received donation amount (€)\"].sum()"
   ]
  },
  {
   "cell_type": "code",
   "execution_count": 22,
   "id": "316ef8db-1632-40a6-a47e-b55c097329f7",
   "metadata": {},
   "outputs": [
    {
     "data": {
      "text/plain": [
       "np.float64(14.090604026845638)"
      ]
     },
     "execution_count": 22,
     "metadata": {},
     "output_type": "execute_result"
    }
   ],
   "source": [
    "pledges_april[\"Received donation amount (€)\"].mean()"
   ]
  },
  {
   "cell_type": "markdown",
   "id": "8b2a8a36-98c4-487e-ba09-4ea1a96c12d3",
   "metadata": {},
   "source": [
    "---"
   ]
  },
  {
   "cell_type": "markdown",
   "id": "ec3969b6-2bca-4bb2-ad19-d427dbb130bd",
   "metadata": {},
   "source": [
    "### Cash+Pledges"
   ]
  },
  {
   "cell_type": "code",
   "execution_count": 31,
   "id": "7f941b9d-42ed-449c-a4e6-8fe7c3c01a79",
   "metadata": {},
   "outputs": [],
   "source": [
    "cash_pledges_april= df[\n",
    "(df[\"Donation date\"].dt.year==2025)&\n",
    "(df[\"Donation date\"].dt.month== 4)\n",
    "]"
   ]
  },
  {
   "cell_type": "code",
   "execution_count": 25,
   "id": "0116db64-09d6-43af-98f7-3ee205822384",
   "metadata": {},
   "outputs": [
    {
     "data": {
      "text/plain": [
       "np.int64(597)"
      ]
     },
     "execution_count": 25,
     "metadata": {},
     "output_type": "execute_result"
    }
   ],
   "source": [
    "cash_pledges_april[\"Gift\"].value_counts().sum()"
   ]
  },
  {
   "cell_type": "code",
   "execution_count": 27,
   "id": "0a5dd66d-e867-4b8d-a46f-d1ae6f9f81ba",
   "metadata": {},
   "outputs": [
    {
     "data": {
      "text/plain": [
       "np.float64(13650.0)"
      ]
     },
     "execution_count": 27,
     "metadata": {},
     "output_type": "execute_result"
    }
   ],
   "source": [
    "cash_pledges_april[\"Received donation amount (€)\"].sum()"
   ]
  },
  {
   "cell_type": "code",
   "execution_count": 28,
   "id": "162b7506-1029-418e-abc9-32c5ba87724a",
   "metadata": {},
   "outputs": [
    {
     "data": {
      "text/plain": [
       "np.float64(22.8643216080402)"
      ]
     },
     "execution_count": 28,
     "metadata": {},
     "output_type": "execute_result"
    }
   ],
   "source": [
    "cash_pledges_april[\"Received donation amount (€)\"].mean()"
   ]
  },
  {
   "cell_type": "markdown",
   "id": "d08e5031-e114-4b9b-8653-9ec920a6365b",
   "metadata": {},
   "source": [
    "---"
   ]
  },
  {
   "cell_type": "markdown",
   "id": "87e41b39-7995-438e-879f-2bc685fe8978",
   "metadata": {},
   "source": [
    "# 📌 May 2025"
   ]
  },
  {
   "cell_type": "markdown",
   "id": "b3f905fb-09c8-47df-b27f-4f5857e7dba1",
   "metadata": {},
   "source": [
    "### Cash Doners"
   ]
  },
  {
   "cell_type": "code",
   "execution_count": 38,
   "id": "b9819cfd-d3c0-4c64-ad21-40b900f2c9ca",
   "metadata": {},
   "outputs": [],
   "source": [
    "cash_may=df[\n",
    "(df[\"Donation date\"].dt.year==2025)&\n",
    "(df[\"Donation date\"].dt.month==5)&\n",
    "(df[\"Gift\"]==\"Jednorazová\")\n",
    "]"
   ]
  },
  {
   "cell_type": "code",
   "execution_count": 39,
   "id": "4297a1d9-b6d2-40fa-a8b9-b2343bcbdd75",
   "metadata": {},
   "outputs": [
    {
     "data": {
      "text/plain": [
       "np.int64(1935)"
      ]
     },
     "execution_count": 39,
     "metadata": {},
     "output_type": "execute_result"
    }
   ],
   "source": [
    "cash_may[\"Gift\"].value_counts().sum()"
   ]
  },
  {
   "cell_type": "code",
   "execution_count": 40,
   "id": "7c4c78e4-1d7f-4ec0-819f-8f28418ece85",
   "metadata": {},
   "outputs": [
    {
     "data": {
      "text/plain": [
       "np.float64(26419.690000000002)"
      ]
     },
     "execution_count": 40,
     "metadata": {},
     "output_type": "execute_result"
    }
   ],
   "source": [
    "cash_may[\"Received donation amount (€)\"].sum()"
   ]
  },
  {
   "cell_type": "code",
   "execution_count": 41,
   "id": "77f2344e-10ad-4ab1-b1d3-c3b1239b54dc",
   "metadata": {},
   "outputs": [
    {
     "data": {
      "text/plain": [
       "np.float64(13.653586563307496)"
      ]
     },
     "execution_count": 41,
     "metadata": {},
     "output_type": "execute_result"
    }
   ],
   "source": [
    "cash_may[\"Received donation amount (€)\"].mean()"
   ]
  },
  {
   "cell_type": "markdown",
   "id": "150fbab6-7b40-420f-b75a-735795ea7323",
   "metadata": {},
   "source": [
    "---"
   ]
  },
  {
   "cell_type": "markdown",
   "id": "6d8c4119-6201-4349-a99d-efb498b07e0f",
   "metadata": {},
   "source": [
    "### Pledge Doners"
   ]
  },
  {
   "cell_type": "code",
   "execution_count": 42,
   "id": "f14e4920-9c6a-414d-9ab0-7be266d745c3",
   "metadata": {},
   "outputs": [],
   "source": [
    "pledge_may=df[\n",
    "(df[\"Donation date\"].dt.year==2025)&\n",
    "(df[\"Donation date\"].dt.month==5)&\n",
    "(df[\"Gift\"]==\"Pravidelná\")\n",
    "]"
   ]
  },
  {
   "cell_type": "code",
   "execution_count": 43,
   "id": "e8db944b-0ea3-4e19-8d0a-3fd0b0ad66a2",
   "metadata": {},
   "outputs": [
    {
     "data": {
      "text/plain": [
       "np.int64(480)"
      ]
     },
     "execution_count": 43,
     "metadata": {},
     "output_type": "execute_result"
    }
   ],
   "source": [
    "pledge_may[\"Gift\"].value_counts().sum()"
   ]
  },
  {
   "cell_type": "code",
   "execution_count": 44,
   "id": "0093262a-6837-498f-b89c-36ecb1e01382",
   "metadata": {},
   "outputs": [
    {
     "data": {
      "text/plain": [
       "np.float64(6177.4)"
      ]
     },
     "execution_count": 44,
     "metadata": {},
     "output_type": "execute_result"
    }
   ],
   "source": [
    "pledge_may[\"Received donation amount (€)\"].sum()"
   ]
  },
  {
   "cell_type": "code",
   "execution_count": 45,
   "id": "94ba4e45-fe9e-459a-a34e-ae9f17210abf",
   "metadata": {},
   "outputs": [
    {
     "data": {
      "text/plain": [
       "np.float64(12.869583333333333)"
      ]
     },
     "execution_count": 45,
     "metadata": {},
     "output_type": "execute_result"
    }
   ],
   "source": [
    "pledge_may[\"Received donation amount (€)\"].mean()"
   ]
  },
  {
   "cell_type": "markdown",
   "id": "1d1fa39c-da61-4053-bb45-4be2ab9c6ff6",
   "metadata": {},
   "source": [
    "---"
   ]
  },
  {
   "cell_type": "markdown",
   "id": "820392f8-066d-4805-ab75-ecd33d38e3b4",
   "metadata": {},
   "source": [
    "### Cash + Pledges"
   ]
  },
  {
   "cell_type": "code",
   "execution_count": 47,
   "id": "bc1662c7-9940-4ae2-ba49-dc809b0987d7",
   "metadata": {},
   "outputs": [],
   "source": [
    "cash_pledges_may= df[\n",
    "(df[\"Donation date\"].dt.year==2025)&\n",
    "(df[\"Donation date\"].dt.month== 5)\n",
    "]"
   ]
  },
  {
   "cell_type": "code",
   "execution_count": 51,
   "id": "b291d5b3-4da8-4d1e-93fb-6456b3f44844",
   "metadata": {},
   "outputs": [
    {
     "data": {
      "text/plain": [
       "np.int64(2415)"
      ]
     },
     "execution_count": 51,
     "metadata": {},
     "output_type": "execute_result"
    }
   ],
   "source": [
    "cash_pledges_may[\"Gift\"].value_counts().sum()"
   ]
  },
  {
   "cell_type": "code",
   "execution_count": 52,
   "id": "de6be360-676d-4db2-98bd-48f09406db93",
   "metadata": {},
   "outputs": [
    {
     "data": {
      "text/plain": [
       "np.float64(32597.09)"
      ]
     },
     "execution_count": 52,
     "metadata": {},
     "output_type": "execute_result"
    }
   ],
   "source": [
    "cash_pledges_may[\"Received donation amount (€)\"].sum()"
   ]
  },
  {
   "cell_type": "code",
   "execution_count": 53,
   "id": "ad2e6478-9a5a-441c-9402-d456c201cf6c",
   "metadata": {},
   "outputs": [
    {
     "data": {
      "text/plain": [
       "np.float64(13.49775983436853)"
      ]
     },
     "execution_count": 53,
     "metadata": {},
     "output_type": "execute_result"
    }
   ],
   "source": [
    "cash_pledges_may[\"Received donation amount (€)\"].mean()"
   ]
  },
  {
   "cell_type": "markdown",
   "id": "1e19f915-0296-446f-94da-e919234c9b27",
   "metadata": {},
   "source": [
    "---"
   ]
  },
  {
   "cell_type": "markdown",
   "id": "9e71fffb-e1f7-4cd7-8fd7-e67e1dc0c132",
   "metadata": {},
   "source": [
    "# 📌 June 2025"
   ]
  },
  {
   "cell_type": "markdown",
   "id": "7d854041-7ab4-4023-8910-9da1200b874c",
   "metadata": {},
   "source": [
    "### Cash Doners"
   ]
  },
  {
   "cell_type": "code",
   "execution_count": 9,
   "id": "4e0ecc8f-665f-4491-a2de-b08c9454e3f1",
   "metadata": {},
   "outputs": [],
   "source": [
    "cash_june= df[\n",
    "(df[\"Donation date\"].dt.year==2025)&\n",
    "(df[\"Donation date\"].dt.month==6)&\n",
    "(df[\"Gift\"]==\"Jednorazová\")\n",
    "]"
   ]
  },
  {
   "cell_type": "code",
   "execution_count": 10,
   "id": "76dedf03-5b22-4fae-bcbc-5755ce860cc5",
   "metadata": {},
   "outputs": [
    {
     "data": {
      "text/plain": [
       "np.int64(713)"
      ]
     },
     "execution_count": 10,
     "metadata": {},
     "output_type": "execute_result"
    }
   ],
   "source": [
    "cash_june[\"Gift\"].value_counts().sum()"
   ]
  },
  {
   "cell_type": "code",
   "execution_count": 11,
   "id": "cc858685-6cec-4b2b-bb05-743832b42aa5",
   "metadata": {},
   "outputs": [
    {
     "data": {
      "text/plain": [
       "np.float64(15497.119999999999)"
      ]
     },
     "execution_count": 11,
     "metadata": {},
     "output_type": "execute_result"
    }
   ],
   "source": [
    "cash_june[\"Received donation amount (€)\"].sum()"
   ]
  },
  {
   "cell_type": "code",
   "execution_count": 12,
   "id": "65bea496-c55b-4fcb-b79c-42ec562948d1",
   "metadata": {},
   "outputs": [
    {
     "data": {
      "text/plain": [
       "np.float64(21.73509116409537)"
      ]
     },
     "execution_count": 12,
     "metadata": {},
     "output_type": "execute_result"
    }
   ],
   "source": [
    "cash_june[\"Received donation amount (€)\"].mean()"
   ]
  },
  {
   "cell_type": "markdown",
   "id": "5732204f-9953-496b-b6a7-1bc2b96ff674",
   "metadata": {},
   "source": [
    "---"
   ]
  },
  {
   "cell_type": "markdown",
   "id": "4d053df2-189b-458b-9722-8132c579bea5",
   "metadata": {},
   "source": [
    "### Pledges"
   ]
  },
  {
   "cell_type": "code",
   "execution_count": 14,
   "id": "2cf606ba-0ebc-463e-8916-88af169c5c54",
   "metadata": {},
   "outputs": [],
   "source": [
    "pledges_june= df[\n",
    "(df[\"Donation date\"].dt.year==2025)&\n",
    "(df[\"Donation date\"].dt.month==6)&\n",
    "(df[\"Gift\"]==\"Pravidelná\")\n",
    "]"
   ]
  },
  {
   "cell_type": "code",
   "execution_count": 15,
   "id": "9627a165-c67d-44ad-a7a4-01dbea826905",
   "metadata": {},
   "outputs": [
    {
     "data": {
      "text/plain": [
       "np.int64(462)"
      ]
     },
     "execution_count": 15,
     "metadata": {},
     "output_type": "execute_result"
    }
   ],
   "source": [
    "pledges_june[\"Gift\"].value_counts().sum()"
   ]
  },
  {
   "cell_type": "code",
   "execution_count": 16,
   "id": "45e818d7-414c-45ef-a3d6-eefb533157a4",
   "metadata": {},
   "outputs": [
    {
     "data": {
      "text/plain": [
       "np.float64(6042.0)"
      ]
     },
     "execution_count": 16,
     "metadata": {},
     "output_type": "execute_result"
    }
   ],
   "source": [
    "pledges_june[\"Received donation amount (€)\"].sum()"
   ]
  },
  {
   "cell_type": "code",
   "execution_count": 17,
   "id": "16e5d540-a5f0-4b61-8fdf-b151115ef492",
   "metadata": {},
   "outputs": [
    {
     "data": {
      "text/plain": [
       "np.float64(13.077922077922079)"
      ]
     },
     "execution_count": 17,
     "metadata": {},
     "output_type": "execute_result"
    }
   ],
   "source": [
    "pledges_june[\"Received donation amount (€)\"].mean()"
   ]
  },
  {
   "cell_type": "markdown",
   "id": "00242696-d07c-4430-a741-a92dadd41902",
   "metadata": {},
   "source": [
    "---"
   ]
  },
  {
   "cell_type": "markdown",
   "id": "a558f907-47eb-42a6-a1ab-ddafdb40c6db",
   "metadata": {},
   "source": [
    "### Cash+Pledges"
   ]
  },
  {
   "cell_type": "code",
   "execution_count": 19,
   "id": "2542b2e3-5047-4a7e-939f-4df0ce21661d",
   "metadata": {},
   "outputs": [],
   "source": [
    "cash_pledges_june= df[\n",
    "(df[\"Donation date\"].dt.year==2025)&\n",
    "(df[\"Donation date\"].dt.month==6)\n",
    "]"
   ]
  },
  {
   "cell_type": "code",
   "execution_count": 20,
   "id": "2c31b62f-bfc0-469f-ba4c-bacb1327aa7a",
   "metadata": {},
   "outputs": [
    {
     "data": {
      "text/plain": [
       "np.int64(1175)"
      ]
     },
     "execution_count": 20,
     "metadata": {},
     "output_type": "execute_result"
    }
   ],
   "source": [
    "cash_pledges_june[\"Gift\"].value_counts().sum()"
   ]
  },
  {
   "cell_type": "code",
   "execution_count": 21,
   "id": "a2137b36-55ee-4c2b-954e-de3640411aae",
   "metadata": {},
   "outputs": [
    {
     "data": {
      "text/plain": [
       "np.float64(21539.12)"
      ]
     },
     "execution_count": 21,
     "metadata": {},
     "output_type": "execute_result"
    }
   ],
   "source": [
    "cash_pledges_june[\"Received donation amount (€)\"].sum()"
   ]
  },
  {
   "cell_type": "code",
   "execution_count": 22,
   "id": "9f872613-2ef4-43d1-bd5b-28b21e952369",
   "metadata": {},
   "outputs": [
    {
     "data": {
      "text/plain": [
       "np.float64(18.331165957446807)"
      ]
     },
     "execution_count": 22,
     "metadata": {},
     "output_type": "execute_result"
    }
   ],
   "source": [
    "cash_pledges_june[\"Received donation amount (€)\"].mean()"
   ]
  },
  {
   "cell_type": "markdown",
   "id": "8f7dfe5f-3658-40ad-a5b3-7f04c4532622",
   "metadata": {},
   "source": [
    "---"
   ]
  },
  {
   "cell_type": "markdown",
   "id": "59e0f299-e572-4800-bac5-46e97dca8035",
   "metadata": {},
   "source": [
    "# Visualization"
   ]
  },
  {
   "cell_type": "markdown",
   "id": "8ae23de8-2d44-4ddd-8f98-7fb9dcd7e27c",
   "metadata": {},
   "source": [
    "### Cash Doners "
   ]
  },
  {
   "cell_type": "code",
   "execution_count": 37,
   "id": "20ae0895-aed0-4b1d-a450-860776524e0c",
   "metadata": {},
   "outputs": [
    {
     "data": {
      "image/png": "[encoded data removed]",
      "text/plain": [
       "<Figure size 900x500 with 1 Axes>"
      ]
     },
     "metadata": {},
     "output_type": "display_data"
    }
   ],
   "source": [
    "# Data for CASH donors\n",
    "data = {\n",
    "    \"Month\": [\"January\", \"February\", \"March\", \"April\", \"May\", \"June\"],\n",
    "    \"Donors\": [193, 250, 319, 299, 1935, 713]\n",
    "}\n",
    "df = pd.DataFrame(data)\n",
    "\n",
    "# Seaborn theme (customized manually)\n",
    "sns.set_theme(style=\"white\", palette=\"pastel\")\n",
    "\n",
    "# Plot\n",
    "plt.figure(figsize=(9, 5))\n",
    "ax = sns.barplot(data=df, x=\"Month\", y=\"Donors\", color=\"#81d4fa\")  # Light blue bars\n",
    "\n",
    "# Titles and labels\n",
    "ax.set_title(\"CASH - Number of Donors per Month\", fontsize=14, weight='bold', color='white', pad=15)\n",
    "ax.set_xlabel(\"Month\", fontsize=12, color='white')\n",
    "ax.set_ylabel(\"Number of Donors\", fontsize=12, color='white')\n",
    "\n",
    "# Grid lines – horizontal & vertical (light on dark)\n",
    "ax.yaxis.grid(True, which='major', linestyle='--', linewidth=0.6, color='white', alpha=0.2)\n",
    "ax.xaxis.grid(True, which='major', linestyle='--', linewidth=0.6, color='white', alpha=0.2)\n",
    "\n",
    "# Dark background\n",
    "ax.set_facecolor(\"#1e1e1e\")           # plot area\n",
    "plt.gcf().patch.set_facecolor(\"#121212\")  # full figure background\n",
    "\n",
    "# Tick labels white\n",
    "ax.tick_params(colors='white')\n",
    "for label in ax.get_xticklabels():\n",
    "    label.set_color('white')\n",
    "for label in ax.get_yticklabels():\n",
    "    label.set_color('white')\n",
    "\n",
    "plt.tight_layout()\n",
    "plt.show()"
   ]
  },
  {
   "cell_type": "markdown",
   "id": "ece9a10e-9761-400d-9520-c8fe742cf241",
   "metadata": {},
   "source": [
    "### PLedge Doners"
   ]
  },
  {
   "cell_type": "code",
   "execution_count": 36,
   "id": "8de9ed3e-b233-4508-819a-45c65ab1810e",
   "metadata": {},
   "outputs": [
    {
     "data": {
      "image/png": "[encoded data removed]",
      "text/plain": [
       "<Figure size 900x500 with 1 Axes>"
      ]
     },
     "metadata": {},
     "output_type": "display_data"
    }
   ],
   "source": [
    "data = {\n",
    "    \"Month\": [\"January\", \"February\", \"March\", \"April\", \"May\", \"June\"],\n",
    "    \"Donors\": [184, 202, 263, 298, 480, 462]\n",
    "}\n",
    "df = pd.DataFrame(data)\n",
    "\n",
    "# Seaborn theme – turned off grid to customize it manually\n",
    "sns.set_theme(style=\"white\", palette=\"pastel\")\n",
    "\n",
    "# Plot\n",
    "plt.figure(figsize=(9, 5))\n",
    "ax = sns.barplot(data=df, x=\"Month\", y=\"Donors\", color=\"#4dd0e1\")  # Light cyan bars\n",
    "\n",
    "# Title and labels\n",
    "ax.set_title(\"PLEDGE - Number of Donors per Month\", fontsize=14, weight='bold', color='white', pad=15)\n",
    "ax.set_xlabel(\"Month\", fontsize=12, color='white')\n",
    "ax.set_ylabel(\"Number of Donors\", fontsize=12, color='white')\n",
    "\n",
    "# Grid – full (both directions), bright lines on dark background\n",
    "ax.yaxis.grid(True, which='major', linestyle='--', linewidth=0.6, color='white', alpha=0.2)\n",
    "ax.xaxis.grid(True, which='major', linestyle='--', linewidth=0.6, color='white', alpha=0.2)\n",
    "\n",
    "# Set dark background\n",
    "ax.set_facecolor(\"#1e1e1e\")           # plot area\n",
    "plt.gcf().patch.set_facecolor(\"#121212\")  # full figure\n",
    "\n",
    "# Set all tick labels to white\n",
    "ax.tick_params(colors='white')\n",
    "\n",
    "# Optional: change x-axis tick label font color\n",
    "for label in ax.get_xticklabels():\n",
    "    label.set_color('white')\n",
    "\n",
    "for label in ax.get_yticklabels():\n",
    "    label.set_color('white')\n",
    "\n",
    "plt.tight_layout()\n",
    "plt.show()"
   ]
  },
  {
   "cell_type": "markdown",
   "id": "83c5dc62-a4af-47bb-ad53-7504563ec6b3",
   "metadata": {},
   "source": [
    "### Cash+Pledge Doners"
   ]
  },
  {
   "cell_type": "code",
   "execution_count": 39,
   "id": "051f2682-325a-44c1-be52-ad2417670ba5",
   "metadata": {},
   "outputs": [
    {
     "data": {
      "image/png": "[encoded data removed]",
      "text/plain": [
       "<Figure size 900x500 with 1 Axes>"
      ]
     },
     "metadata": {},
     "output_type": "display_data"
    }
   ],
   "source": [
    "# Data for C+P donors\n",
    "data = {\n",
    "    \"Month\": [\"January\", \"February\", \"March\", \"April\", \"May\", \"June\"],\n",
    "    \"Donors\": [377, 452, 582, 597, 2415, 1175]\n",
    "}\n",
    "df = pd.DataFrame(data)\n",
    "\n",
    "# Seaborn theme (custom)\n",
    "sns.set_theme(style=\"white\", palette=\"pastel\")\n",
    "\n",
    "# Plot\n",
    "plt.figure(figsize=(9, 5))\n",
    "ax = sns.barplot(data=df, x=\"Month\", y=\"Donors\", color=\"#ffd54f\")  # Light amber bars\n",
    "\n",
    "# Titles and labels\n",
    "ax.set_title(\"C+P - Number of Donors per Month\", fontsize=14, weight='bold', color='white', pad=15)\n",
    "ax.set_xlabel(\"Month\", fontsize=12, color='white')\n",
    "ax.set_ylabel(\"Number of Donors\", fontsize=12, color='white')\n",
    "\n",
    "# Grid – horizontal + vertical\n",
    "ax.yaxis.grid(True, which='major', linestyle='--', linewidth=0.6, color='white', alpha=0.2)\n",
    "ax.xaxis.grid(True, which='major', linestyle='--', linewidth=0.6, color='white', alpha=0.2)\n",
    "\n",
    "# Background\n",
    "ax.set_facecolor(\"#1e1e1e\")             # plot area\n",
    "plt.gcf().patch.set_facecolor(\"#121212\")  # figure background\n",
    "\n",
    "# Tick labels in white\n",
    "ax.tick_params(colors='white')\n",
    "for label in ax.get_xticklabels():\n",
    "    label.set_color('white')\n",
    "for label in ax.get_yticklabels():\n",
    "    label.set_color('white')\n",
    "\n",
    "plt.tight_layout()\n",
    "plt.show()"
   ]
  },
  {
   "cell_type": "code",
   "execution_count": null,
   "id": "94dcd4ea-5e29-4eef-af42-b17a753feda8",
   "metadata": {},
   "outputs": [],
   "source": []
  }
 ],
 "metadata": {
  "kernelspec": {
   "display_name": "Python 3 (ipykernel)",
   "language": "python",
   "name": "python3"
  },
  "language_info": {
   "codemirror_mode": {
    "name": "ipython",
    "version": 3
   },
   "file_extension": ".py",
   "mimetype": "text/x-python",
   "name": "python",
   "nbconvert_exporter": "python",
   "pygments_lexer": "ipython3",
   "version": "3.13.2"
  }
 },
 "nbformat": 4,
 "nbformat_minor": 5
}
